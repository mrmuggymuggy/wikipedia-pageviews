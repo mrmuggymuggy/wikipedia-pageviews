{
 "cells": [
  {
   "cell_type": "code",
   "execution_count": 1,
   "metadata": {
    "scrolled": true
   },
   "outputs": [],
   "source": [
    "from pyspark.sql import SparkSession\n",
    "from pyspark import SparkFiles\n",
    "\n",
    "spark = SparkSession \\\n",
    "    .builder \\\n",
    "    .appName(\"Python Spark SQL wikipedia pageview\") \\\n",
    "    .getOrCreate()\n",
    "\n",
    "#pickup a random pageview gz for dev\n",
    "url = \"https://dumps.wikimedia.org/other/pageviews/2020/2020-10/pageviews-20201001-020000.gz\"\n",
    "blacklist_location_url = \"https://s3.amazonaws.com/dd-interview-data/data_engineer/wikipedia/blacklist_domains_and_pages\"\n",
    "\n",
    "spark.sparkContext.addFile(url)\n",
    "spark.sparkContext.addFile(blacklist_location_url)\n"
   ]
  },
  {
   "cell_type": "code",
   "execution_count": 2,
   "metadata": {},
   "outputs": [],
   "source": [
    "'''\n",
    "define schema according to https://wikitech.wikimedia.org/wiki/Analytics/Data_Lake/Traffic/Pageviews\n",
    "#domain_code page_title count_views total_response_size\n",
    "'''\n",
    "from pyspark.sql.types import (\n",
    "    LongType,\n",
    "    StringType,\n",
    "    StructType,\n",
    ")\n",
    "schema = StructType() \\\n",
    "      .add(\"domain_code\",StringType(),True) \\\n",
    "      .add(\"page_title\",StringType(),True) \\\n",
    "      .add(\"count_views\",LongType(),True) \\\n",
    "      .add(\"total_response_size\",LongType(),True)\n",
    "blacklist_schema =  StructType() \\\n",
    "      .add(\"domain_code\",StringType(),True) \\\n",
    "      .add(\"page_title\",StringType(),True)"
   ]
  },
  {
   "cell_type": "code",
   "execution_count": 3,
   "metadata": {},
   "outputs": [
    {
     "name": "stdout",
     "output_type": "stream",
     "text": [
      "+-----------+--------------------+\n",
      "|domain_code|          page_title|\n",
      "+-----------+--------------------+\n",
      "|         ab|%D0%91%D0%BE%D1%8...|\n",
      "|        ace|Beureukaih:Nuvola...|\n",
      "|        ace|               Japan|\n",
      "|        ace|Kusuih:Hubong_gis...|\n",
      "|        ace|Kusuih:Neuubah_me...|\n",
      "|        ace|Marit_Ureu%C3%ABn...|\n",
      "|      ace.m|Kusuih:MobileLang...|\n",
      "|         af|                 .sy|\n",
      "|         af|                2009|\n",
      "|         af|         Apostelskap|\n",
      "|         af|                 DNS|\n",
      "|         af|    Franse_Rewolusie|\n",
      "|         af|            Galicies|\n",
      "|         af|      Hector_Berlioz|\n",
      "|         af|Kategorie:Trentin...|\n",
      "|         af|L%C3%AAer:Allah-g...|\n",
      "|         af|L%C3%AAer:Boerfam...|\n",
      "|         af|L%C3%AAer:Flag_of...|\n",
      "|         af|         Moeitevolle|\n",
      "|         af|           Onderling|\n",
      "+-----------+--------------------+\n",
      "only showing top 20 rows\n",
      "\n",
      "+-----------+--------------------+-----------+-------------------+\n",
      "|domain_code|          page_title|count_views|total_response_size|\n",
      "+-----------+--------------------+-----------+-------------------+\n",
      "|         aa|                   -|         11|                  0|\n",
      "|         aa|           Main_Page|         13|                  0|\n",
      "|         aa|           Wikipedia|          1|                  0|\n",
      "|         aa|Wikipedia:Communi...|          3|                  0|\n",
      "|         aa|   Wikipedia:Sandbox|          1|                  0|\n",
      "|       aa.b|           Main_Page|          1|                  0|\n",
      "|       aa.b|MediaWiki:Ipb_alr...|          1|                  0|\n",
      "|       aa.b|Special:CreateAcc...|          1|                  0|\n",
      "|       aa.b|   Special:UserLogin|          1|                  0|\n",
      "|       aa.d|           Main_Page|          2|                  0|\n",
      "|     aa.m.d|           Main_Page|          1|                  0|\n",
      "|         ab|                   -|         14|                  0|\n",
      "|         ab|                1467|          1|                  0|\n",
      "|         ab|                 390|          1|                  0|\n",
      "|         ab|                 487|          1|                  0|\n",
      "|         ab|                 781|          1|                  0|\n",
      "|         ab|                 842|          1|                  0|\n",
      "|         ab|                 865|          1|                  0|\n",
      "|         ab|     Аалмышәӡахәақәа|          1|                  0|\n",
      "|         ab|             Абиблиа|          1|                  0|\n",
      "+-----------+--------------------+-----------+-------------------+\n",
      "only showing top 20 rows\n",
      "\n"
     ]
    }
   ],
   "source": [
    "blacklist_df = spark.read.option(\"delimiter\", \" \").option(\"inferSchema\", True).schema(blacklist_schema) \\\n",
    "    .csv(\"file://\"+SparkFiles.get(\"blacklist_domains_and_pages\"))\n",
    "blacklist_df.show()\n",
    "\n",
    "df = spark.read.option(\"delimiter\", \" \").option(\"inferSchema\", True).schema(schema) \\\n",
    "    .csv(\"file://\"+SparkFiles.get(\"pageviews-20201001-020000.gz\"))\n",
    "    \n",
    "df.show()"
   ]
  },
  {
   "cell_type": "code",
   "execution_count": 4,
   "metadata": {},
   "outputs": [
    {
     "name": "stdout",
     "output_type": "stream",
     "text": [
      "+---------------------------+\n",
      "|count(DISTINCT domain_code)|\n",
      "+---------------------------+\n",
      "|                       1505|\n",
      "+---------------------------+\n",
      "\n"
     ]
    }
   ],
   "source": [
    "\"\"\"\n",
    "let's use spark sql!!! https://spark.apache.org/sql/\n",
    "https://spark.apache.org/docs/latest/sql-programming-guide.html\n",
    "\"\"\"\n",
    "df.createOrReplaceTempView(\"wiki_pageviews\")\n",
    "spark.sql(\"SELECT COUNT(DISTINCT(domain_code)) FROM wiki_pageviews\").show()"
   ]
  },
  {
   "cell_type": "code",
   "execution_count": 5,
   "metadata": {},
   "outputs": [
    {
     "name": "stdout",
     "output_type": "stream",
     "text": [
      "+-----------+--------------------+-----------+-------------------+\n",
      "|domain_code|          page_title|count_views|total_response_size|\n",
      "+-----------+--------------------+-----------+-------------------+\n",
      "|         aa|                   -|         11|                  0|\n",
      "|         aa|           Main_Page|         13|                  0|\n",
      "|         aa|           Wikipedia|          1|                  0|\n",
      "|         aa|Wikipedia:Communi...|          3|                  0|\n",
      "|         aa|   Wikipedia:Sandbox|          1|                  0|\n",
      "|       aa.b|           Main_Page|          1|                  0|\n",
      "|       aa.b|MediaWiki:Ipb_alr...|          1|                  0|\n",
      "|       aa.b|Special:CreateAcc...|          1|                  0|\n",
      "|       aa.b|   Special:UserLogin|          1|                  0|\n",
      "|       aa.d|           Main_Page|          2|                  0|\n",
      "|     aa.m.d|           Main_Page|          1|                  0|\n",
      "|         ab|                   -|         14|                  0|\n",
      "|         ab|                1467|          1|                  0|\n",
      "|         ab|                 390|          1|                  0|\n",
      "|         ab|                 487|          1|                  0|\n",
      "|         ab|                 781|          1|                  0|\n",
      "|         ab|                 842|          1|                  0|\n",
      "|         ab|                 865|          1|                  0|\n",
      "|         ab|     Аалмышәӡахәақәа|          1|                  0|\n",
      "|         ab|             Абиблиа|          1|                  0|\n",
      "+-----------+--------------------+-----------+-------------------+\n",
      "only showing top 20 rows\n",
      "\n",
      "4365673\n",
      "57114\n",
      "4371700\n"
     ]
    }
   ],
   "source": [
    "blacklist_df.createOrReplaceTempView(\"blacklists\")\n",
    "\"\"\"\n",
    "SELECT wiki_pageviews.* FROM wiki_pageviews\n",
    "LEFT JOIN blacklists b USING(domain_code,page_title)\n",
    "WHERE b.domain_code IS NULL AND b.page_title is NULL\n",
    "Depends on spark sql query plan, this might be more optimized, could check as alternative of NOT EXIST way \n",
    "\"\"\"\n",
    "filter_query = \"\"\"\n",
    "SELECT *\n",
    "FROM   wiki_pageviews w\n",
    "WHERE NOT EXISTS (\n",
    "   SELECT *\n",
    "   FROM   blacklists\n",
    "   WHERE  domain_code = w.domain_code and page_title = w.page_title\n",
    "   );\n",
    "\"\"\"\n",
    "transformed_df = spark.sql(filter_query)\n",
    "transformed_df.show()\n",
    "print(transformed_df.count())\n",
    "print(blacklist_df.count())\n",
    "print(df.count())\n"
   ]
  },
  {
   "cell_type": "code",
   "execution_count": 6,
   "metadata": {},
   "outputs": [
    {
     "name": "stdout",
     "output_type": "stream",
     "text": [
      "+--------------+-----------+--------------------+-----------+\n",
      "|   domain_code|count_views|          page_title|domain_rank|\n",
      "+--------------+-----------+--------------------+-----------+\n",
      "|       cbk-zam|         11|   El_Primero_Pagina|          1|\n",
      "|        co.m.d|          1|Discussioni_utent...|          1|\n",
      "|      en.m.voy|         50|           Main_Page|          1|\n",
      "|  foundation.m|        672|      Privacy_policy|          1|\n",
      "|foundation.m.m|        318|      Privacy_policy|          1|\n",
      "|          ro.b|          6|   Pagina_principală|          1|\n",
      "|          zu.m|          4|           Amaphupho|          1|\n",
      "|         als.m|          6| Wikipedia:Houptsyte|          1|\n",
      "|         diq.m|          2|                2022|          1|\n",
      "|      es.m.voy|         28|             Jalisco|          1|\n",
      "|        ms.m.b|          2|Solat_cara_Nabi_M...|          1|\n",
      "|        pt.m.q|         21|     Estatuto_do_PCC|          1|\n",
      "|          sd.d|          5|            مُک_صفحو|          1|\n",
      "|        zh.m.d|         21|     Wiktionary:首页|          1|\n",
      "|          fr.n|         26|             Accueil|          1|\n",
      "|          iu.m|         13|     Rodrigo_Barbosa|          1|\n",
      "|          jv.m|         51|             Gamelan|          1|\n",
      "|           kbd|          7|НапэкӀуэцӀ_нэхъыщхьэ|          1|\n",
      "|        mr.m.s|         24|      मारुती_स्तोत्र|          1|\n",
      "|          co.b|          1|      Pagina_maestra|          1|\n",
      "+--------------+-----------+--------------------+-----------+\n",
      "only showing top 20 rows\n",
      "\n",
      "+---------------------------+\n",
      "|count(DISTINCT domain_code)|\n",
      "+---------------------------+\n",
      "|                       1505|\n",
      "+---------------------------+\n",
      "\n"
     ]
    }
   ],
   "source": [
    "\n",
    "transformed_df.createOrReplaceTempView(\"filtered_wiki_pageviews\")\n",
    "\"\"\"\n",
    "for sql knowledge :) \n",
    "http://www.silota.com/docs/recipes/sql-top-n-group.html\n",
    "#maybe use dense_rank or rank\n",
    "\"\"\"\n",
    "rank_query = \"\"\"\n",
    "select * from (\n",
    "    select domain_code, \n",
    "           count_views,\n",
    "           page_title, \n",
    "           row_number() over (partition by domain_code order by count_views desc) as domain_rank \n",
    "    from filtered_wiki_pageviews) ranks\n",
    "where domain_rank <= 1;\n",
    "\"\"\"\n",
    "final_df = spark.sql(rank_query)\n",
    "final_df.show()\n",
    "\n",
    "spark.sql(\"SELECT COUNT(DISTINCT(domain_code)) FROM filtered_wiki_pageviews\").show()\n"
   ]
  },
  {
   "cell_type": "code",
   "execution_count": 9,
   "metadata": {},
   "outputs": [],
   "source": [
    "x = final_df.repartition(1) \\\n",
    "    .write \\\n",
    "    .option(\"header\", True) \\\n",
    "    .option(\"inferSchema\", True) \\\n",
    "    .option(\"delimiter\", \",\") \\\n",
    "    .mode(\"overwrite\") \\\n",
    "    .csv('rank.csv')"
   ]
  },
  {
   "cell_type": "code",
   "execution_count": 8,
   "metadata": {},
   "outputs": [
    {
     "name": "stdout",
     "output_type": "stream",
     "text": [
      "None\n"
     ]
    }
   ],
   "source": [
    "print(x)"
   ]
  }
 ],
 "metadata": {
  "kernelspec": {
   "display_name": "Python 3",
   "language": "python",
   "name": "python3"
  },
  "language_info": {
   "codemirror_mode": {
    "name": "ipython",
    "version": 3
   },
   "file_extension": ".py",
   "mimetype": "text/x-python",
   "name": "python",
   "nbconvert_exporter": "python",
   "pygments_lexer": "ipython3",
   "version": "3.8.6"
  }
 },
 "nbformat": 4,
 "nbformat_minor": 4
}
