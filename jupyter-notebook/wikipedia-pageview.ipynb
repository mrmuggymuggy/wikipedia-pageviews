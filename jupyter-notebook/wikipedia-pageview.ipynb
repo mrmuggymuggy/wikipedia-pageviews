{
 "cells": [
  {
   "cell_type": "code",
   "execution_count": 13,
   "metadata": {
    "scrolled": true
   },
   "outputs": [],
   "source": [
    "from pyspark.sql import SparkSession\n",
    "from pyspark import SparkFiles\n",
    "\n",
    "spark = SparkSession \\\n",
    "    .builder \\\n",
    "    .appName(\"Python Spark SQL wikipedia pageview\") \\\n",
    "    .getOrCreate()\n",
    "\n",
    "#pickup a random pageview gz for dev\n",
    "url1 = \"https://dumps.wikimedia.org/other/pageviews/2020/2020-10/pageviews-20201001-020000.gz\"\n",
    "url2 = \"https://dumps.wikimedia.org/other/pageviews/2020/2020-10/pageviews-20201001-030000.gz\"\n",
    "blacklist_location_url = \"https://s3.amazonaws.com/dd-interview-data/data_engineer/wikipedia/blacklist_domains_and_pages\"\n",
    "\n",
    "spark.sparkContext.addFile(url1)\n",
    "spark.sparkContext.addFile(url2)\n",
    "spark.sparkContext.addFile(blacklist_location_url)\n"
   ]
  },
  {
   "cell_type": "code",
   "execution_count": 14,
   "metadata": {},
   "outputs": [],
   "source": [
    "'''\n",
    "define schema according to https://wikitech.wikimedia.org/wiki/Analytics/Data_Lake/Traffic/Pageviews\n",
    "#domain_code page_title count_views total_response_size\n",
    "'''\n",
    "from pyspark.sql.types import (\n",
    "    LongType,\n",
    "    StringType,\n",
    "    StructType,\n",
    ")\n",
    "schema = StructType() \\\n",
    "      .add(\"domain_code\",StringType(),True) \\\n",
    "      .add(\"page_title\",StringType(),True) \\\n",
    "      .add(\"count_views\",LongType(),True) \\\n",
    "      .add(\"total_response_size\",LongType(),True)\n",
    "blacklist_schema =  StructType() \\\n",
    "      .add(\"domain_code\",StringType(),True) \\\n",
    "      .add(\"page_title\",StringType(),True)"
   ]
  },
  {
   "cell_type": "code",
   "execution_count": 15,
   "metadata": {},
   "outputs": [
    {
     "name": "stdout",
     "output_type": "stream",
     "text": [
      "+-----------+--------------------+\n",
      "|domain_code|          page_title|\n",
      "+-----------+--------------------+\n",
      "|         ab|%D0%91%D0%BE%D1%8...|\n",
      "|        ace|Beureukaih:Nuvola...|\n",
      "|        ace|               Japan|\n",
      "|        ace|Kusuih:Hubong_gis...|\n",
      "|        ace|Kusuih:Neuubah_me...|\n",
      "|        ace|Marit_Ureu%C3%ABn...|\n",
      "|      ace.m|Kusuih:MobileLang...|\n",
      "|         af|                 .sy|\n",
      "|         af|                2009|\n",
      "|         af|         Apostelskap|\n",
      "|         af|                 DNS|\n",
      "|         af|    Franse_Rewolusie|\n",
      "|         af|            Galicies|\n",
      "|         af|      Hector_Berlioz|\n",
      "|         af|Kategorie:Trentin...|\n",
      "|         af|L%C3%AAer:Allah-g...|\n",
      "|         af|L%C3%AAer:Boerfam...|\n",
      "|         af|L%C3%AAer:Flag_of...|\n",
      "|         af|         Moeitevolle|\n",
      "|         af|           Onderling|\n",
      "+-----------+--------------------+\n",
      "only showing top 20 rows\n",
      "\n",
      "+-----------+--------------------+-----------+-------------------+\n",
      "|domain_code|          page_title|count_views|total_response_size|\n",
      "+-----------+--------------------+-----------+-------------------+\n",
      "|         aa|                   -|         11|                  0|\n",
      "|         aa|           Main_Page|         11|                  0|\n",
      "|       aa.b|           Main_Page|          2|                  0|\n",
      "|       aa.b|Special:CreateAcc...|          1|                  0|\n",
      "|       aa.b|   Special:UserLogin|          1|                  0|\n",
      "|       aa.d|           Main_Page|          1|                  0|\n",
      "|         ab|                   -|          4|                  0|\n",
      "|         ab|                1219|          1|                  0|\n",
      "|         ab|                1453|          1|                  0|\n",
      "|         ab|                1455|          1|                  0|\n",
      "|         ab|                1456|          1|                  0|\n",
      "|         ab|                1459|          1|                  0|\n",
      "|         ab|                1752|          1|                  0|\n",
      "|         ab|                1883|          1|                  0|\n",
      "|         ab|                1899|          1|                  0|\n",
      "|         ab|                 522|          1|                  0|\n",
      "|         ab|                 665|          1|                  0|\n",
      "|         ab|                 728|          1|                  0|\n",
      "|         ab|                 957|          1|                  0|\n",
      "|         ab|Авикипедиа:Афорум...|          1|                  0|\n",
      "+-----------+--------------------+-----------+-------------------+\n",
      "only showing top 20 rows\n",
      "\n"
     ]
    }
   ],
   "source": [
    "blacklist_df = spark.read.option(\"delimiter\", \" \").option(\"inferSchema\", True).schema(blacklist_schema) \\\n",
    "    .csv(\"file://\"+SparkFiles.get(\"blacklist_domains_and_pages\"))\n",
    "blacklist_df.show()\n",
    "\n",
    "df = spark.read.option(\"delimiter\", \" \").option(\"inferSchema\", True).schema(schema) \\\n",
    "    .csv(\"file://\"+SparkFiles.get(\"pageviews-20201001-*.gz\"))\n",
    "    \n",
    "df.show()"
   ]
  },
  {
   "cell_type": "code",
   "execution_count": 16,
   "metadata": {},
   "outputs": [
    {
     "name": "stdout",
     "output_type": "stream",
     "text": [
      "+---------------------------+\n",
      "|count(DISTINCT domain_code)|\n",
      "+---------------------------+\n",
      "|                       1593|\n",
      "+---------------------------+\n",
      "\n"
     ]
    }
   ],
   "source": [
    "\"\"\"\n",
    "let's use spark sql!!! https://spark.apache.org/sql/\n",
    "https://spark.apache.org/docs/latest/sql-programming-guide.html\n",
    "\"\"\"\n",
    "df.createOrReplaceTempView(\"wiki_pageviews\")\n",
    "spark.sql(\"SELECT COUNT(DISTINCT(domain_code)) FROM wiki_pageviews\").show()"
   ]
  },
  {
   "cell_type": "code",
   "execution_count": 17,
   "metadata": {},
   "outputs": [
    {
     "name": "stdout",
     "output_type": "stream",
     "text": [
      "+-----------+--------------------+-----------+-------------------+\n",
      "|domain_code|          page_title|count_views|total_response_size|\n",
      "+-----------+--------------------+-----------+-------------------+\n",
      "|         aa|                   -|         11|                  0|\n",
      "|         aa|           Main_Page|         11|                  0|\n",
      "|       aa.b|           Main_Page|          2|                  0|\n",
      "|       aa.b|Special:CreateAcc...|          1|                  0|\n",
      "|       aa.b|   Special:UserLogin|          1|                  0|\n",
      "|       aa.d|           Main_Page|          1|                  0|\n",
      "|         ab|                   -|          4|                  0|\n",
      "|         ab|                1219|          1|                  0|\n",
      "|         ab|                1453|          1|                  0|\n",
      "|         ab|                1455|          1|                  0|\n",
      "|         ab|                1456|          1|                  0|\n",
      "|         ab|                1459|          1|                  0|\n",
      "|         ab|                1752|          1|                  0|\n",
      "|         ab|                1883|          1|                  0|\n",
      "|         ab|                1899|          1|                  0|\n",
      "|         ab|                 522|          1|                  0|\n",
      "|         ab|                 665|          1|                  0|\n",
      "|         ab|                 728|          1|                  0|\n",
      "|         ab|                 957|          1|                  0|\n",
      "|         ab|Авикипедиа:Афорум...|          1|                  0|\n",
      "+-----------+--------------------+-----------+-------------------+\n",
      "only showing top 20 rows\n",
      "\n",
      "8774105\n",
      "57114\n",
      "8786178\n"
     ]
    }
   ],
   "source": [
    "blacklist_df.createOrReplaceTempView(\"blacklists\")\n",
    "\"\"\"\n",
    "SELECT wiki_pageviews.* FROM wiki_pageviews\n",
    "LEFT JOIN blacklists b USING(domain_code,page_title)\n",
    "WHERE b.domain_code IS NULL AND b.page_title is NULL\n",
    "Depends on spark sql query plan, this might be more optimized, could check as alternative of NOT EXIST way \n",
    "\"\"\"\n",
    "filter_query = \"\"\"\n",
    "SELECT *\n",
    "FROM   wiki_pageviews w\n",
    "WHERE NOT EXISTS (\n",
    "   SELECT *\n",
    "   FROM   blacklists\n",
    "   WHERE  domain_code = w.domain_code and page_title = w.page_title\n",
    "   );\n",
    "\"\"\"\n",
    "transformed_df = spark.sql(filter_query)\n",
    "transformed_df.show()\n",
    "print(transformed_df.count())\n",
    "print(blacklist_df.count())\n",
    "print(df.count())\n"
   ]
  },
  {
   "cell_type": "code",
   "execution_count": 18,
   "metadata": {},
   "outputs": [
    {
     "name": "stdout",
     "output_type": "stream",
     "text": [
      "+-----------+--------------------+-----------+\n",
      "|domain_code|          page_title|count_views|\n",
      "+-----------+--------------------+-----------+\n",
      "|      ace.m|      Bungong_Jeumpa|          2|\n",
      "|         af|    Ignaz_Semmelweis|          1|\n",
      "|       af.m|           Soortnaam|          1|\n",
      "|     af.m.d|               motor|          1|\n",
      "|        als|          SBB_Re_460|          2|\n",
      "|      als.m|        Enzyklopädie|          2|\n",
      "|       an.m|            Honduras|          1|\n",
      "|         ar|               أر4أم|          1|\n",
      "|         ar|         أسد_(توضيح)|          1|\n",
      "|         ar|         إب_(محافظة)|          2|\n",
      "|         ar|      إبراهيم_اليزدي|          1|\n",
      "|         ar|          إدريس_إلبا|          2|\n",
      "|         ar|           إسلام_ويب|          2|\n",
      "|         ar|          إلى_تلميذة|          1|\n",
      "|         ar|البنك_المركزي_لدو...|          1|\n",
      "|         ar|     التونسية_(قناة)|          1|\n",
      "|         ar|العيد_الوطني_لجمه...|          2|\n",
      "|         ar|المتعة_والعذاب_(ف...|          2|\n",
      "|         ar|المخطط_الزمني_لجا...|          1|\n",
      "|         ar|          امرؤ_القيس|          5|\n",
      "+-----------+--------------------+-----------+\n",
      "only showing top 20 rows\n",
      "\n"
     ]
    }
   ],
   "source": [
    "transformed_df.createOrReplaceTempView(\"filtered_wiki_pageviews\")\n",
    "aggregate_query = \"\"\"\n",
    "select domain_code, \n",
    "page_title, \n",
    "Sum(count_views) as count_views\n",
    "from filtered_wiki_pageviews\n",
    "group by domain_code, page_title;\n",
    "\"\"\"\n",
    "aggregated_df = spark.sql(aggregate_query)\n",
    "aggregated_df.show()"
   ]
  },
  {
   "cell_type": "code",
   "execution_count": 19,
   "metadata": {},
   "outputs": [
    {
     "name": "stdout",
     "output_type": "stream",
     "text": [
      "+--------------+-----------+--------------------+-----------+\n",
      "|   domain_code|count_views|          page_title|domain_rank|\n",
      "+--------------+-----------+--------------------+-----------+\n",
      "|       cbk-zam|         27|   El_Primero_Pagina|          1|\n",
      "|        co.m.d|          1|      Pagina_maestra|          1|\n",
      "|      en.m.voy|         90|           Main_Page|          1|\n",
      "|  foundation.m|       1470|      Privacy_policy|          1|\n",
      "|foundation.m.m|        668|      Privacy_policy|          1|\n",
      "|          ro.b|         11|   Pagina_principală|          1|\n",
      "|      ro.m.voy|          2|Imperiul_Austro-U...|          1|\n",
      "|          zu.m|          6|Inkinsela_yaseMgu...|          1|\n",
      "|         als.m|         20|            Südkorea|          1|\n",
      "|         diq.m|          3|           Pela_seri|          1|\n",
      "|      es.m.voy|         50|             Jalisco|          1|\n",
      "|        ms.m.b|          4|Solat_cara_Nabi_M...|          1|\n",
      "|        pt.m.q|         39|     Estatuto_do_PCC|          1|\n",
      "|          sd.d|          9|            مُک_صفحو|          1|\n",
      "|        sg.m.d|          1|            Gä_nzönî|          1|\n",
      "|        zh.m.d|         52|     Wiktionary:首页|          1|\n",
      "|          fr.n|         39|             Accueil|          1|\n",
      "|          iu.m|         28|     Rodrigo_Barbosa|          1|\n",
      "|          jv.m|         65|             Gamelan|          1|\n",
      "|           kbd|         13|НапэкӀуэцӀ_нэхъыщхьэ|          1|\n",
      "+--------------+-----------+--------------------+-----------+\n",
      "only showing top 20 rows\n",
      "\n",
      "+---------------------------+\n",
      "|count(DISTINCT domain_code)|\n",
      "+---------------------------+\n",
      "|                       1593|\n",
      "+---------------------------+\n",
      "\n"
     ]
    }
   ],
   "source": [
    "\n",
    "aggregated_df.createOrReplaceTempView(\"aggregated_wiki_pageviews\")\n",
    "\n",
    "\n",
    "\n",
    "\"\"\"\n",
    "for sql knowledge :) \n",
    "http://www.silota.com/docs/recipes/sql-top-n-group.html\n",
    "#maybe use dense_rank or rank\n",
    "\"\"\"\n",
    "rank_query = \"\"\"\n",
    "select * from (\n",
    "    select domain_code, \n",
    "           count_views,\n",
    "           page_title, \n",
    "           row_number() over (partition by domain_code order by count_views desc) as domain_rank \n",
    "    from aggregated_wiki_pageviews) ranks\n",
    "where domain_rank <= 1;\n",
    "\"\"\"\n",
    "final_df = spark.sql(rank_query)\n",
    "final_df.show()\n",
    "\n",
    "spark.sql(\"SELECT COUNT(DISTINCT(domain_code)) FROM filtered_wiki_pageviews\").show()\n"
   ]
  },
  {
   "cell_type": "code",
   "execution_count": 9,
   "metadata": {},
   "outputs": [],
   "source": [
    "x = final_df.repartition(1) \\\n",
    "    .write \\\n",
    "    .option(\"header\", True) \\\n",
    "    .option(\"inferSchema\", True) \\\n",
    "    .option(\"delimiter\", \",\") \\\n",
    "    .mode(\"overwrite\") \\\n",
    "    .csv('rank.csv')"
   ]
  },
  {
   "cell_type": "code",
   "execution_count": 8,
   "metadata": {},
   "outputs": [
    {
     "name": "stdout",
     "output_type": "stream",
     "text": [
      "None\n"
     ]
    }
   ],
   "source": [
    "print(x)"
   ]
  }
 ],
 "metadata": {
  "kernelspec": {
   "display_name": "Python 3",
   "language": "python",
   "name": "python3"
  },
  "language_info": {
   "codemirror_mode": {
    "name": "ipython",
    "version": 3
   },
   "file_extension": ".py",
   "mimetype": "text/x-python",
   "name": "python",
   "nbconvert_exporter": "python",
   "pygments_lexer": "ipython3",
   "version": "3.8.6"
  }
 },
 "nbformat": 4,
 "nbformat_minor": 4
}
